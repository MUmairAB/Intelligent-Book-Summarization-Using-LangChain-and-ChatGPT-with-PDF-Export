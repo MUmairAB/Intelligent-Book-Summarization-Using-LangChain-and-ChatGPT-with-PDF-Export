{
 "cells": [
  {
   "cell_type": "markdown",
   "metadata": {},
   "source": [
    "# Intelligent Book Summarization Using LangChain and ChatGPT with PDF Export\n",
    "\n",
    "\n",
    "## Project Description:\n",
    "\n",
    "In today's fast-paced world, the ability to distill large volumes of information into concise summaries is a valuable skill. This project aims to leverage cutting-edge technologies to create an intelligent book summarization system that combines the power of the **LangChain** framework, **ChatGPT** as a Language Model, and the **FPDF** Python library to produce well-structured PDF summaries of books.\n",
    "\n",
    "## LangChain Framework:\n",
    "\n",
    "The LangChain framework serves as the foundation of our project. LangChain is a versatile and flexible tool that provides a structured approach to processing and analyzing natural language text. It allows us to extract key insights, identify important themes, and break down complex sentences, making it an ideal choice for our summarization task.\n",
    "\n",
    "## ChatGPT as Language Model:\n",
    "\n",
    "ChatGPT, an advanced Language Model, plays a central role in this project. It harnesses the power of deep learning and natural language processing to understand and generate human-like text. We employ ChatGPT to process the content of the book, ensuring that our summaries are not only concise but also coherent and contextually accurate.\n",
    "\n",
    "The OpenAI limits the API usage to certain constarints like limiting the number of tokens and API call in 1 minute. A workaround is also provided to address these constraints.\n",
    "\n",
    "## Summarization Process:\n",
    "\n",
    "Our project follows a systematic summarization process. We first load the PDF book using **PyPDFLoader** API from LangChain which uses the **PyPDF** library. Then comes the pre-processes of text to remove noise and identify relevant content.  Next, the text is subjected to ChatGPT that generates a summary based on this refined input, ensuring that it captures the most salient points and key takeaways from the book. The combination of LangChain and ChatGPT ensures that our summaries are both accurate and comprehensive.\n",
    "\n",
    "## PDF Export Using FPDF:\n",
    "\n",
    "To make our summaries easily accessible and shareable, we utilize the **FPDF** Python library to convert the generated summaries into PDF documents. FPDF allows us to format the content, add headers and footers, include images or graphs (although we did not add any), and create a professional-looking document that retains the essence of the book. The PDF export feature ensures that our summaries can be seamlessly integrated into various platforms, such as e-readers or websites.\n",
    "\n",
    "A noteworthy highlight is the addition of external encoding within the FPDF to accommodate special characters.\n",
    "\n",
    "For the demo purpose, this code is tested on the book [Crime & Punishment](https://books.google.com.pk/books/about/Crime_and_Punishment.html?id=9uBXAAAAYAAJ&printsec=frontcover&source=kp_read_button&hl=en&redir_esc=y#v=onepage&q&f=false) by **Fyodor Dostoevsky**"
   ]
  },
  {
   "cell_type": "code",
   "execution_count": 1,
   "metadata": {
    "colab": {
     "base_uri": "https://localhost:8080/"
    },
    "id": "cQjeAVGhqOTQ",
    "outputId": "f7f66b66-0c0e-4451-9deb-b99ac424043d"
   },
   "outputs": [
    {
     "name": "stderr",
     "output_type": "stream",
     "text": [
      "WARNING: Ignoring invalid distribution -pencv-python (c:\\users\\laptop house\\anaconda3\\lib\\site-packages)\n",
      "WARNING: Ignoring invalid distribution -pencv-python (c:\\users\\laptop house\\anaconda3\\lib\\site-packages)\n",
      "WARNING: Ignoring invalid distribution -pencv-python (c:\\users\\laptop house\\anaconda3\\lib\\site-packages)\n",
      "WARNING: Ignoring invalid distribution -pencv-python (c:\\users\\laptop house\\anaconda3\\lib\\site-packages)\n",
      "WARNING: Ignoring invalid distribution -pencv-python (c:\\users\\laptop house\\anaconda3\\lib\\site-packages)\n",
      "WARNING: Ignoring invalid distribution -pencv-python (c:\\users\\laptop house\\anaconda3\\lib\\site-packages)\n"
     ]
    }
   ],
   "source": [
    "#Install the necessary libraries\n",
    "!pip install -q pypdf langchain openai tiktoken"
   ]
  },
  {
   "cell_type": "markdown",
   "metadata": {},
   "source": [
    "For the secure handling of OpenAI API keys, I have stored the API key in a Python file namely **\"API_file.py\"**. The file is present in the same directory. Let's load the API key and store it as an environment variable."
   ]
  },
  {
   "cell_type": "code",
   "execution_count": 2,
   "metadata": {
    "id": "nMCm900VhNsp"
   },
   "outputs": [],
   "source": [
    "#Extract the API key as API_key\n",
    "from API_file import API_key"
   ]
  },
  {
   "cell_type": "code",
   "execution_count": 3,
   "metadata": {
    "id": "9iNUI3gkhSVh"
   },
   "outputs": [],
   "source": [
    "#Create an Environment Variable named OPENAI_API_KEY to store the API_key\n",
    "import os\n",
    "\n",
    "os.environ[\"OPENAI_API_KEY\"] = API_key"
   ]
  },
  {
   "cell_type": "code",
   "execution_count": 4,
   "metadata": {},
   "outputs": [],
   "source": [
    "from langchain.chat_models import ChatOpenAI\n",
    "from langchain.chains.summarize import load_summarize_chain"
   ]
  },
  {
   "cell_type": "code",
   "execution_count": 5,
   "metadata": {},
   "outputs": [],
   "source": [
    "#Instantiate the GPT-4 LLM from OpenAI\n",
    "llm = ChatOpenAI(model=\"gpt-4\", temperature=0.4, max_tokens=500)#10000)"
   ]
  },
  {
   "cell_type": "markdown",
   "metadata": {},
   "source": [
    "We'll set the **chain_type** to **map_reduce**. Because the document is pretty large and contains **2,09,050** words. The **PyPDFLoader** API will divide the document into smaller chunks of pages. By employing the **map_reduce** chain, we'll first map each page to an individual summary using an LLMChain. Then we'll use a **ReduceDocumentsChain** to combine those summaries into a single global summary."
   ]
  },
  {
   "cell_type": "code",
   "execution_count": 6,
   "metadata": {},
   "outputs": [],
   "source": [
    "#Instantiate the LangChain Summarization API\n",
    "chain = load_summarize_chain(llm, chain_type=\"map_reduce\")"
   ]
  },
  {
   "cell_type": "code",
   "execution_count": 7,
   "metadata": {},
   "outputs": [],
   "source": [
    "#Read the PDF document\n",
    "from langchain.document_loaders import PyPDFLoader\n",
    "\n",
    "loader = PyPDFLoader(file_path=\"crime-and-punishment.pdf\")\n",
    "documents = loader.load_and_split()"
   ]
  },
  {
   "cell_type": "markdown",
   "metadata": {},
   "source": [
    "## Pre-Processing\n",
    "\n",
    "Let's clean the text and discard some irrelevant information."
   ]
  },
  {
   "cell_type": "code",
   "execution_count": 8,
   "metadata": {},
   "outputs": [],
   "source": [
    "#Remove some initial irrelevant pages\n",
    "for i in range (6):\n",
    "    _ = documents.pop(0)"
   ]
  },
  {
   "cell_type": "code",
   "execution_count": 11,
   "metadata": {},
   "outputs": [],
   "source": [
    "#Remove the redundant phrases\n",
    "for i in range (0,len(documents)):\n",
    "    try:\n",
    "        documents.remove(\"Free eBooks at Planet eBook.com\")\n",
    "    except ValueError:\n",
    "        pass"
   ]
  },
  {
   "cell_type": "markdown",
   "metadata": {},
   "source": [
    "## Summarize the text\n",
    "\n",
    "We cannot directly go on to making API calls to OpenAI. Becuase that will raise **RateLimitError**. \n",
    "\n",
    "To avoid RateLimitError when making API calls to OpenAI, we must adhere to OpenAI's rate limits, which are set at:\n",
    "\n",
    "- 10,000 TPM (tokens per minute), and\n",
    "- 200 RPM (requests per minute).\n",
    "\n",
    "Given the substantial size of books, such as the one used in our testing, which contains **209,050** words, an effieient strategy must be employed to effectively manage the API calls. This involves breaking the calls into segments, typically corresponding to individual pages, and subsequently merging the individual summaries to create a comprehensive summary. This approach ensures compliance with OpenAI's rate limits while efficiently summarizing lengthy texts like books."
   ]
  },
  {
   "cell_type": "code",
   "execution_count": 12,
   "metadata": {},
   "outputs": [],
   "source": [
    "import time, random"
   ]
  },
  {
   "cell_type": "code",
   "execution_count": 13,
   "metadata": {},
   "outputs": [
    {
     "name": "stdout",
     "output_type": "stream",
     "text": [
      "Current Page Number: 22\n",
      "\n",
      "\t\t\t\tSystem is waiting to ensure 10k TPM request\n",
      "\n",
      "\t\t\t\t- System is done waiting\n",
      "Current Page Number: 45\n",
      "\n",
      "\t\t\t\tSystem is waiting to ensure 10k TPM request\n",
      "\n",
      "\t\t\t\t- System is done waiting\n",
      "Current Page Number: 67\n",
      "\n",
      "\t\t\t\tSystem is waiting to ensure 10k TPM request\n",
      "\n",
      "\t\t\t\t- System is done waiting\n",
      "Current Page Number: 91\n",
      "\n",
      "\t\t\t\tSystem is waiting to ensure 10k TPM request\n",
      "\n",
      "\t\t\t\t- System is done waiting\n",
      "Current Page Number: 114\n",
      "\n",
      "\t\t\t\tSystem is waiting to ensure 10k TPM request\n",
      "\n",
      "\t\t\t\t- System is done waiting\n",
      "Current Page Number: 140\n",
      "\n",
      "\t\t\t\tSystem is waiting to ensure 10k TPM request\n",
      "\n",
      "\t\t\t\t- System is done waiting\n",
      "Current Page Number: 163\n",
      "\n",
      "\t\t\t\tSystem is waiting to ensure 10k TPM request\n",
      "\n",
      "\t\t\t\t- System is done waiting\n",
      "Current Page Number: 189\n",
      "\n",
      "\t\t\t\tSystem is waiting to ensure 10k TPM request\n",
      "\n",
      "\t\t\t\t- System is done waiting\n",
      "Current Page Number: 214\n",
      "\n",
      "\t\t\t\tSystem is waiting to ensure 10k TPM request\n",
      "\n",
      "\t\t\t\t- System is done waiting\n",
      "Current Page Number: 239\n",
      "\n",
      "\t\t\t\tSystem is waiting to ensure 10k TPM request\n",
      "\n",
      "\t\t\t\t- System is done waiting\n",
      "Current Page Number: 265\n",
      "\n",
      "\t\t\t\tSystem is waiting to ensure 10k TPM request\n",
      "\n",
      "\t\t\t\t- System is done waiting\n",
      "Current Page Number: 290\n",
      "\n",
      "\t\t\t\tSystem is waiting to ensure 10k TPM request\n",
      "\n",
      "\t\t\t\t- System is done waiting\n",
      "Current Page Number: 315\n",
      "\n",
      "\t\t\t\tSystem is waiting to ensure 10k TPM request\n",
      "\n",
      "\t\t\t\t- System is done waiting\n",
      "Current Page Number: 341\n",
      "\n",
      "\t\t\t\tSystem is waiting to ensure 10k TPM request\n",
      "\n",
      "\t\t\t\t- System is done waiting\n",
      "Current Page Number: 366\n",
      "\n",
      "\t\t\t\tSystem is waiting to ensure 10k TPM request\n",
      "\n",
      "\t\t\t\t- System is done waiting\n",
      "Current Page Number: 392\n",
      "\n",
      "\t\t\t\tSystem is waiting to ensure 10k TPM request\n",
      "\n",
      "\t\t\t\t- System is done waiting\n",
      "Current Page Number: 417\n",
      "\n",
      "\t\t\t\tSystem is waiting to ensure 10k TPM request\n",
      "\n",
      "\t\t\t\t- System is done waiting\n",
      "Current Page Number: 443\n",
      "\n",
      "\t\t\t\tSystem is waiting to ensure 10k TPM request\n",
      "\n",
      "\t\t\t\t- System is done waiting\n",
      "Current Page Number: 468\n",
      "\n",
      "\t\t\t\tSystem is waiting to ensure 10k TPM request\n",
      "\n",
      "\t\t\t\t- System is done waiting\n",
      "Current Page Number: 492\n",
      "\n",
      "\t\t\t\tSystem is waiting to ensure 10k TPM request\n",
      "\n",
      "\t\t\t\t- System is done waiting\n",
      "Current Page Number: 518\n",
      "\n",
      "\t\t\t\tSystem is waiting to ensure 10k TPM request\n",
      "\n",
      "\t\t\t\t- System is done waiting\n",
      "Current Page Number: 542\n",
      "\n",
      "\t\t\t\tSystem is waiting to ensure 10k TPM request\n",
      "\n",
      "\t\t\t\t- System is done waiting\n",
      "Current Page Number: 566\n",
      "\n",
      "\t\t\t\tSystem is waiting to ensure 10k TPM request\n",
      "\n",
      "\t\t\t\t- System is done waiting\n",
      "Current Page Number: 590\n",
      "\n",
      "\t\t\t\tSystem is waiting to ensure 10k TPM request\n",
      "\n",
      "\t\t\t\t- System is done waiting\n",
      "Current Page Number: 615\n",
      "\n",
      "\t\t\t\tSystem is waiting to ensure 10k TPM request\n",
      "\n",
      "\t\t\t\t- System is done waiting\n",
      "Current Page Number: 638\n",
      "\n",
      "\t\t\t\tSystem is waiting to ensure 10k TPM request\n",
      "\n",
      "\t\t\t\t- System is done waiting\n",
      "Current Page Number: 662\n",
      "\n",
      "\t\t\t\tSystem is waiting to ensure 10k TPM request\n",
      "\n",
      "\t\t\t\t- System is done waiting\n",
      "Current Page Number: 686\n",
      "\n",
      "\t\t\t\tSystem is waiting to ensure 10k TPM request\n",
      "\n",
      "\t\t\t\t- System is done waiting\n",
      "Current Page Number: 709\n",
      "\n",
      "\t\t\t\tSystem is waiting to ensure 10k TPM request\n",
      "\n",
      "\t\t\t\t- System is done waiting\n",
      "Current Page Number: 732\n",
      "\n",
      "\t\t\t\tSystem is waiting to ensure 10k TPM request\n",
      "\n",
      "\t\t\t\t- System is done waiting\n",
      "Current Page Number: 757\n",
      "\n",
      "\t\t\t\tSystem is waiting to ensure 10k TPM request\n",
      "\n",
      "\t\t\t\t- System is done waiting\n"
     ]
    }
   ],
   "source": [
    "#Variable to store the summarized text\n",
    "summary = \"\"\n",
    "\n",
    "#Variable to store the length of words; used to make sure we send less than 10k tokens\n",
    "length = 0\n",
    "\n",
    "#Variable to store the page number of last request sent to OpenAI\n",
    "last_page = 0\n",
    "\n",
    "wait_time = 1.1\n",
    "for page_num in range(0,len(documents)):\n",
    "    length = length + len(documents[page_num].page_content.split(\" \"))\n",
    "    if length > 6500:\n",
    "        summary = summary + \" \" + chain.run(documents[last_page:page_num])\n",
    "        length = 0\n",
    "        last_page = page_num\n",
    "        #Since the ChatGPT takes a lot of time to process, let's \n",
    "        # print the progress along the way. So that we could know\n",
    "        # the prgram is working and is not stuck anywhere\n",
    "        print(\"Current Page Number:\",page_num)\n",
    "        print(\"\\n\\t\\t\\t\\tSystem is waiting to ensure 10k TPM request\")\n",
    "        #Wait 66 seconds before making the next request\n",
    "        time.sleep(wait_time*60)\n",
    "        print(\"\\n\\t\\t\\t\\t- System is done waiting\")\n",
    "        #wait_time = wait_time + 1"
   ]
  },
  {
   "cell_type": "code",
   "execution_count": 14,
   "metadata": {},
   "outputs": [],
   "source": [
    "#Check if the last pages are summarized or not\n",
    "if last_page < len(documents):\n",
    "    summary = summary + chain.run(documents[last_page:len(documents)])"
   ]
  },
  {
   "cell_type": "code",
   "execution_count": 15,
   "metadata": {},
   "outputs": [
    {
     "data": {
      "text/plain": [
       "' The protagonist of \"Crime and Punishment,\" Raskolnikov, is a poor, anxious young man who avoids social interaction. He visits an old woman, Alyona Ivanovna, to pawn a watch, and observes her home and actions carefully, hinting at a secret plan. Later, he goes to a tavern where he meets Marmeladov, a drunkard who shares his tragic life story, including his marriage to a noblewoman, Katerina Ivanovna, and his subsequent descent into alcoholism and poverty. Marmeladov also discusses his daughter Sonia\\'s difficult life and limited education. This passage from \"Crime and Punishment\" describes the hardships of Katerina Ivanovna, a sick woman caring for her children and dealing with financial struggles. A character named Marmeladov recounts a tense situation involving his daughter, Sonia, who is forced to leave their home due to accusations from a notorious woman, Darya Frantsovna. Marmeladov, a drunken man, shares his struggles and guilt over his actions, such as stealing money from his family. Despite his issues, he finds hope in his belief that God will forgive everyone. The protagonist, Raskolnikov, visits Marmeladov\\'s home, witnessing the family\\'s dire situation. Raskolnikov himself is dealing with his own issues, including financial struggles and isolation. He receives a letter from his mother revealing the truth about his sister Dounia\\'s difficult situation with her employers, the Svidrigaïlovs. Dounia and the narrator are ostracized by their community due to slander spread by Marfa Petrovna. Their reputation is restored when a letter from Dounia rejects Mr. Svidrigaïlov\\'s advances and criticizes his behavior. Marfa Petrovna subsequently defends Dounia\\'s reputation and publicly proclaims her innocence. Dounia receives a marriage proposal from Pyotr Petrovitch Luzhin, a relative of Marfa Petrovna, which she accepts. The narrator and Dounia hope that Rodya, a law student, can start his career under Pyotr\\'s guidance. However, Rodya is upset by the marriage decision and resolves to prevent it. He questions Dounia\\'s motives for marrying Mr. Luzhin, who is frugal to the point of stinginess. The speaker passionately argues against Dounia\\'s decision and expresses concern for their family\\'s future. Raskolnikov, filled with anxiety, contemplates giving up on life altogether. He encounters a young, drunken girl on a deserted boulevard and confronts a man named Svidrigaïlov, whom he perceives as a threat to the girl. Raskolnikov, a character from \"Crime and Punishment,\" observes a vulnerable girl being preyed upon by a stranger and alerts a policeman. He later reflects on his decision to intervene, questioning his right to interfere in others\\' lives. He contemplates visiting his old university friend, Razumihin, for work, despite his current state of agitation and confusion. After a vivid dream about his childhood and a brutal scene involving a horse, Raskolnikov wakes up distressed, contemplating a violent act with an axe. He decides to renounce his \"accursed dream,\" feeling a sense of relief. However, a chance encounter with Lizaveta, a pawnbroker\\'s sister, leads him to learn that she will be away the next day, leaving the old woman alone. This information horrifies him as it presents an opportunity for a planned attempt on the old woman\\'s life. He also recalls having items to pawn, including a ring gifted by his sister. After pawning the ring, he overhears a conversation about the same pawnbroker, Alyona Ivanovna, which he finds strange and mysterious. In \"Crime and Punishment\", the protagonist, Raskolnikov, contemplates and ultimately commits a crime, rationalizing it as a means to a greater good. He is deeply affected by a conversation about a woman named Lizaveta who is abused by her older sister. Raskolnikov plans to kill the older woman for her money, which he believes could be used for good deeds. He meticulously plans the crime, including hiding an axe in his coat. Despite some hiccups, he successfully carries out the murder and also kills Lizaveta when she stumbles upon the scene. He then loots the house, taking valuables from a hidden box. Throughout the process, Raskolnikov grapples with his conscience, fear, and the practicalities of his actions. In the second part of \"Crime and Punishment,\" Raskolnikov deals with the aftermath of committing two murders. He meticulously cleans the murder weapon and his clothes, and manages to avoid detection by hiding in an empty flat when others arrive at the murder scene. He manages to return home and hide the stolen items and the murder weapon without being noticed. His mental state deteriorates as he obsessively checks for any overlooked evidence and fears being caught. He receives a summons to the police station, which he initially fears is related to his crime, but it turns out to be for an unpaid debt. Despite his relief, he remains on edge, fearing his crime will be discovered. In this passage from \"Crime and Punishment,\" the protagonist Raskolnikov is struggling with financial difficulties and is berated by authorities for his debts. He is also suspected of a crime, which leads to a tense interaction with the police. Despite his illness, Raskolnikov manages to hide some items he fears may incriminate him. He also visits his friend Razumihin, but the meeting ends in frustration. Raskolnikov\\'s mental state deteriorates as he contemplates his actions and motives, leading to aimless wandering and a growing hatred for everything around him. His internal conflict continues as he debates whether to accept a translation job from Razumihin. The passage ends with Raskolnikov returning home and being awoken by a terrifying scream. In this excerpt from \"Crime and Punishment,\" Raskolnikov, the protagonist, experiences a series of events while in a state of distress and confusion. He hears his landlady being beaten, falls ill, and drifts in and out of consciousness. His housemaid, Nastasya, and a friend, Razumihin, tend to him during this time. Raskolnikov receives money sent by his mother through a messenger, but initially refuses to accept it. He later signs for it under pressure. Razumihin buys new clothes for Raskolnikov and helps him change into them. Throughout these events, Raskolnikov displays paranoia and confusion, often questioning his own perceptions and the intentions of those around him. Zossimov, a doctor, visits Raskolnikov and suggests a diet for him. The characters also discuss plans for a house-warming party and their relationships with other characters, including Porfiry Petrovitch and Zametov. In this chapter of \"Crime and Punishment\", a murder case involving a house-painter named Nikolay, who is suspected of killing an old pawnbroker and her sister, is discussed in detail. Despite circumstantial evidence against Nikolay, some characters argue for his innocence, citing his childish and conspicuous behavior after the crime. The conversation shifts when Pyotr Petrovitch Luzhin, a pompous gentleman and the fiancé of Raskolnikov\\'s mother, arrives. Luzhin discusses societal changes and the increase in crime rates among all social classes, suggesting that the desire for wealth without work is leading to moral decay. Raskolnikov, who is recovering from an illness, challenges Luzhin\\'s views, leading to a heated debate.\\n In various excerpts from \"Crime and Punishment,\" the protagonist, Raskolnikov, engages in tense conversations with characters such as Luzhin, Zossimov, Razumihin, and Zametov. The discussions range from accusations and threats to deep philosophical debates about the nature of crime and criminals. Raskolnikov\\'s behavior is erratic and his mood swings from calm to agitated. He also displays a deep interest in a local murder case, hinting at knowing more about it than he should. Raskolnikov\\'s interactions with others often end in discomfort or conflict, leading to his preference for solitude. Amidst these interactions, the narrative also depicts Raskolnikov\\'s wanderings through the city, his observations of its inhabitants, and his reactions to events such as a woman\\'s attempted suicide. In Fyodor Dostoevsky\\'s \"Crime and Punishment,\" protagonist Raskolnikov contemplates confessing his crime at a police station. He visits a flat where a murder has occurred and questions the workmen about the cleanup. After a heated exchange with a group of people, he witnesses a man named Marmeladov being run over by a carriage. Raskolnikov helps take the injured Marmeladov to his home and sends for a doctor. He interacts with Marmeladov\\'s family, including his wife, Katerina Ivanovna, and their children. Marmeladov dies, and Raskolnikov offers financial assistance to the grieving family. He then encounters a police officer, Nikodim Fomitch, and asks him to be kind to the family. Raskolnikov leaves the scene with a renewed sense of life and strength. He has a touching conversation with Marmeladov\\'s youngest daughter, Polenka, who promises to pray for him. Raskolnikov reflects on his life and resolves to live more fully. The protagonist, Raskolnikov, visits his friend Razumihin, who is drunk and hosting a gathering. Raskolnikov is feeling confident and reflective, and he engages in a lively conversation with the guests, including Zossimov, who shows interest in Raskolnikov\\'s mental state. After taking a powder given to him, Raskolnikov reveals that he has given away all his money and has been at a deathbed. He is upset when he finds his mother and sister waiting for him at his apartment. Despite their joy at seeing him, he is overcome with emotion and faints. Razumihin reassures the family that Raskolnikov is recovering well. Raskolnikov insists his mother and sister leave with Razumihin, revealing he has threatened Luzhin and does not want his sister to marry him. Razumihin, despite being intoxicated, promises to look after Raskolnikov and escorts his family home. He passionately criticizes society\\'s lack of individualism and Luzhin\\'s treatment of Raskolnikov\\'s sister. The women are described as beautiful and strong-willed, and they express admiration for Razumihin. Zossimov visits Raskolnikov and suggests his family\\'s presence could aid his recovery. Razumihin is enraged by Zossimov\\'s lewd remark about Raskolnikov\\'s sister and threatens him. In Fyodor Dostoevsky\\'s \"Crime and Punishment,\" Razumihin, a friend of the protagonist Raskolnikov, reflects on his inappropriate behavior and drunkenness from the previous day. He feels guilt and embarrassment, especially about his insinuations regarding Raskolnikov\\'s sister, Avdotya Romanovna. Despite his regret, he decides to accept the consequences of his actions and help others without seeking forgiveness. He also has a conversation with a doctor about Raskolnikov\\'s mental state, which the doctor dismisses as nonsense. Razumihin then visits Avdotya and their mother, Pulcheria Alexandrovna, and recounts the past year of Raskolnikov’s life, omitting certain details. \\n\\nRaskolnikov, who is recovering from an illness, is visited by his mother, sister, and Razumihin. He appears healthier but still troubled. His doctor, Zossimov, advises him to return to university and find a purpose in life, which Raskolnikov agrees to but subtly mocks. Raskolnikov\\'s interactions with his family are strained, but he eventually extends a genuine reconciliation to his sister, much to the joy of their mother. Despite his improved health, Raskolnikov\\'s behavior remains erratic and preoccupied, causing concern among his family and friends. In a series of conversations from \"Crime and Punishment,\" Raskolnikov interacts with his mother, Pulcheria Alexandrovna, and sister, Dounia, discussing topics ranging from madness to love to death. Raskolnikov\\'s behavior fluctuates, sometimes causing discomfort among his family. He also discusses a past love interest, his sister\\'s impending marriage to Pyotr Petrovitch, and his own feelings of guilt and fear. The conversations also reveal the death of Marfa Petrovna Svidrigaïlov and the aftermath of Mr. Marmeladov\\'s accident, including the introduction of his daughter, Sonia. Raskolnikov\\'s interactions with Sonia spark curiosity in an unnamed gentleman who begins to follow her. In Fyodor Dostoevsky\\'s \"Crime and Punishment,\" the character Sonia is followed by an unknown man to her lodging, causing her to feel uneasy. Meanwhile, Razumihin is excitedly heading to Porfiry\\'s place with Raskolnikov, who is confused by his joy. Razumihin reveals he knows about Raskolnikov\\'s past dealings with a pawnbroker, causing Raskolnikov to reflect on his actions. The story also involves a speaker in financial trouble, with only a silver rouble left. The speaker and Razumihin agree to find a man described as intelligent and good at solving cases. Raskolnikov and Razumihin later enter Porfiry Petrovitch\\'s flat, where Raskolnikov struggles to suppress his laughter, causing a commotion. Raskolnikov then discusses his business with Porfiry and Razumihin, who advise him to inform the police about his ownership of certain items related to a murder case. The characters also engage in a heated debate about the nature of crime, discussing whether crime is a protest against societal organization or if there are other factors involved. Raskolnikov also learns that an article he wrote was published, and he might be able to receive payment for it. The article suggests that there are certain individuals who have the right to commit crimes and breaches of morality. Raskolnikov clarifies his argument, stating that he does not believe extraordinary people are always morally corrupt. Instead, he suggests that such individuals have an internal right to overstep certain boundaries if it is necessary for the realization of their ideas, which could potentially benefit humanity. In this excerpt from \"Crime and Punishment,\" Raskolnikov engages in philosophical discussions about human nature, crime, and punishment with Razumihin and Porfiry Petrovitch. They debate about the distribution of human abilities and the potential for extraordinary individuals to commit extreme acts for the sake of humanity. Raskolnikov becomes defensive when Porfiry hints at a connection between him and a recent murder. Later, Raskolnikov and Razumihin express their suspicions about Porfiry and Zametov. Raskolnikov also grapples with his guilt over a crime he committed, experiencing intense self-loathing and contemplating confession. His mental state deteriorates further when Svidrigaïlov, who has been eavesdropping on his conversations, pays him an unexpected visit. In a series of conversations from \"Crime and Punishment\", Raskolnikov and Svidrigaïlov discuss various topics including the death of Marfa Petrovna, Svidrigaïlov\\'s past relationships, his interest in Raskolnikov\\'s sister Avdotya, and his belief in ghosts and the afterlife. Svidrigaïlov reveals that Marfa Petrovna left money to Avdotya in her will. The conversation also touches on Svidrigaïlov\\'s potential involvement in various scandals and crimes. Raskolnikov, along with his friend Razumihin, expresses concern about Svidrigaïlov\\'s intentions towards Avdotya and his potential danger. The conversations are filled with tension, mystery, and philosophical discussions. In this section of \"Crime and Punishment,\" Raskolnikov reveals that a man visited him with intentions of befriending him and meeting Dounia, causing anxiety within the group. Tensions rise as Dounia insists on resolving a conflict between her betrothed, Luzhin, and her brother. Luzhin feels disrespected by Dounia and argues that his position should command more respect. Pyotr Petrovitch accuses Razumihin of misrepresenting his views on marriage and writing false information about Rodion. Raskolnikov confronts Luzhin about a false claim he made, leading to a heated exchange and Luzhin\\'s dismissal from the family. Raskolnikov remains indifferent and sullen, despite the group\\'s relief and joy after a recent event. The group then discusses a business proposal to set up as a publisher, and Rodya announces his intention to leave, causing distress among his family. Raskolnikov visits Sonia, expressing concern about her frail appearance. In this passage from \"Crime and Punishment,\" Sonia, a deeply religious woman, is struggling with the impending death of Katerina Ivanovna, who is suffering from consumption. Sonia is also grappling with her own potential illness and the impact it will have on the children who depend on her. She discusses her struggles with Raskolnikov, who suggests that it might be better for her to end her life than to continue living in such degradation. Sonia, however, clings to her faith and rejects this idea. Later, Raskolnikov visits Porfiry Petrovitch, a government official, and the interaction between them is tense and filled with suspicion. In Dostoevsky\\'s \"Crime and Punishment,\" Raskolnikov confronts Porfiry Petrovitch, suspecting him of setting a trap. Despite Porfiry\\'s attempts to calm him, Raskolnikov remains irritable and insists on a proper investigation. Porfiry, a nervous bachelor, discusses his fears and observations about life, while Raskolnikov stays silent and angry. Porfiry also talks about his duties, the awkwardness of interrogations, and upcoming reforms. He suggests that informal chats can sometimes yield more information and that keeping suspects under surveillance can lead to more evidence. Porfiry then tells Raskolnikov he has him psychologically trapped, believing Raskolnikov will incriminate himself. Raskolnikov remains silent throughout the conversation. Later, Raskolnikov accuses Porfiry of suspecting him of murder and demands to be arrested if there is evidence. Porfiry tries to calm him down and expresses concern for Raskolnikov\\'s health. The conversation ends with Porfiry claiming to know everything about Raskolnikov. In a subsequent conversation, Porfiry warns Raskolnikov that his obsession with proving his innocence could lead to madness. He also reveals knowledge about a flat Raskolnikov visited at night, leading Raskolnikov to question how Porfiry knows this. The conversation ends with Porfiry referencing a similar legal case involving a man who confessed to murder. In a final tense exchange, Raskolnikov demands Porfiry to confirm if he is free from suspicion. Porfiry warns him to be careful and quiet, which further fuels Raskolnikov\\'s anger. He insists he will not allow himself to be tortured and demands to be arrested or searched if necessary. A surprise visit from a prisoner, Nikolay, who confesses to a murder, momentarily shifts the attention away from Raskolnikov. Rodion Romanovitch Raskolnikov and Porfiry Petrovitch discuss Nikolay\\'s confession to a crime, with Raskolnikov accusing Porfiry of manipulating Nikolay. Raskolnikov contemplates the implications of the confession and suspects Porfiry may have hidden strategies. He is visited by a man who confesses to having sinned through evil thoughts, triggering Raskolnikov\\'s memory of a previous day\\'s events. Meanwhile, Pyotr Petrovitch faces legal and financial issues, and has a complex relationship with Andrey Semyonovitch Lebeziatnikov, whom he both despises and fears. He plans to investigate a violent incident in Petersburg with Semyonovitch\\'s help. Petrovitch and Lebeziatnikov have a disagreement about societal norms and honorable human activity. Petrovitch then has a conversation with Sonia, a young woman, in the presence of Lebeziatnikov and Raskolnikov. The text revolves around a conversation between Sonia and Pyotr Petrovitch, where Pyotr discusses his intentions to help Katerina Ivanovna, a poor woman, and Sonia\\'s family. Pyotr suggests setting up a subscription or lottery to raise funds for them, but warns Sonia of an unspecified circumstance. He also offers Sonia money for her family, asking for his name not to be associated with it. The conversation is observed by Lebeziatnikov, who admires Pyotr\\'s actions and challenges his views on marriage. \\n\\nMeanwhile, Katerina Ivanovna, despite her financial struggles, decides to spend half of the money given by Raskolnikov for a funeral on a lavish dinner, possibly to assert her superiority and remind others of her genteel upbringing. However, she is upset that only a few of her lodgers, including Pyotr, attended the funeral and dinner. \\n\\nDuring the dinner, Katerina Ivanovna and Amalia Ivanovna engage in a heated argument over their social status and lineage, which escalates into a physical confrontation. The argument is interrupted by the arrival of Pyotr Petrovitch Luzhin. In this excerpt from \"Crime and Punishment,\" Pyotr Petrovitch accuses Sonia of stealing a hundred-rouble note from his friend\\'s room. Katerina Ivanovna, Sonia\\'s stepmother, passionately defends Sonia, leading to a chaotic confrontation. Lebeziatnikov accuses Petrovitch of giving Sonia the hundred-rouble note, and Raskolnikov delivers a convincing speech that sways the audience to Sonia\\'s side. Amidst the chaos, Petrovitch leaves the gathering, and Katerina Ivanovna is evicted from her lodging. Raskolnikov, despite his internal struggles, becomes a strong defender of Sonia and visits her at her lodgings, where they engage in a tense conversation about the recent events. In passages from \"Crime and Punishment,\" Raskolnikov confesses to Sonia that he murdered an old woman, causing her great distress and fear. Despite his attempts to justify his actions, Sonia remains confused and horrified. Raskolnikov contemplates his actions, expressing regret, confusion, and self-loathing. He also reveals his belief that power is granted to those who dare to seize it, a belief that led him to murder. Sonia pleads with him to confess his sins publicly and to atone for his actions, but he refuses. As he anticipates his arrest, he reassures Sonia that he will be released due to lack of evidence. Sonia offers him a cross, suggesting they will suffer together, but their conversation is interrupted by Lebeziatnikov, who brings news of Katerina Ivanovna\\'s erratic behavior. Raskolnikov returns home filled with guilt and regret, where he is comforted by his sister, Dounia. In this series of passages from \"Crime and Punishment,\" the protagonist, Raskolnikov, is dealing with the emotional turmoil and guilt of his actions, while also dealing with the consequences of his interactions with Dounia and Sonia. Katerina Ivanovna, a woman in a desperate situation, forces her children to perform in public to earn money, leading to her collapse and eventual death from tuberculosis. Svidrigaïlov offers to take care of Katerina\\'s children and Sonia, revealing that he has been eavesdropping on Raskolnikov\\'s conversations. Raskolnikov\\'s mental state deteriorates, leading him to confess his crime to Sonia and eventually the police. After Katerina\\'s funeral, Raskolnikov finds himself constantly thinking of Svidrigaïlov and his intentions. The narrative concludes with Razumihin speculating about a possible political conspiracy and expressing concern for Dounia. In Fyodor Dostoevsky\\'s \"Crime and Punishment,\" the speaker reveals the murderer of an old woman to be a painter whom the speaker had previously defended. Raskolnikov, the protagonist, shows agitation at this news, suspecting that Porfiry and Razumihin are onto him. Porfiry Petrovitch visits Raskolnikov and expresses regret for his past behavior, hinting at past suspicions. He also discusses his belief in Raskolnikov\\'s innocence which makes Raskolnikov uneasy. Porfiry encourages Raskolnikov to confess his crime, arguing it would lessen his sentence and help him find God. Despite Raskolnikov\\'s skepticism, the speaker remains hopeful that his words will be remembered and prove useful in the future. In Fyodor Dostoevsky\\'s \"Crime and Punishment,\" protagonist Raskolnikov has a tense discussion with Porfiry Petrovitch, who suspects Raskolnikov may be planning self-harm. Raskolnikov is anxious about his relationship with Svidrigaïlov, who he believes has power over him. He fears Svidrigaïlov might harm his sister, Dounia, and contemplates confronting him. Raskolnikov eventually encounters Svidrigaïlov at a tavern, where they have a lengthy conversation about their pasts and intentions. Svidrigaïlov reveals his obsession with Avdotya Romanovna, Raskolnikov\\'s sister, and admits he was willing to commit a crime for her. Raskolnikov grows suspicious of Svidrigaïlov\\'s intentions towards his sister.\\n The text details a series of interactions between characters Svidrigaïlov and Raskolnikov, as well as Avdotya Romanovna (Dounia), in Crime and Punishment. Svidrigaïlov is accused of having malicious intentions towards Dounia, which he denies while hinting at a past relationship with her. Svidrigaïlov reveals he is engaged to a much younger woman, but continues to show interest in Dounia. He also assists a mother and daughter who are ridiculed, and supports Katerina Ivanovna\\'s children. Conversations between Svidrigaïlov and Raskolnikov are tense, with Raskolnikov expressing disgust towards Svidrigaïlov and suspecting him of wrongdoing. Svidrigaïlov later guides Dounia to his home, where he reveals he has been eavesdropping on conversations from a neighboring room. Dounia confronts him about a letter accusing her brother of a crime, which Svidrigaïlov tries to justify using a theory about superior beings being above the law. The situation escalates as Svidrigaïlov professes his love for Dounia and threatens her, leading to Dounia pulling out a revolver. In this series of excerpts, Avdotya Romanovna confronts Svidrigaïlov, accusing him of murder and threatening him with a revolver. Despite his provocations, she ultimately chooses not to kill him. Svidrigaïlov then goes on a series of adventures, visiting various places and people, and giving away large sums of money. He visits his betrothed and her parents, giving them a pre-wedding gift of fifteen thousand roubles. He also secures the finances of Sonia\\'s siblings and gives her three thousand roubles for her personal use. After spending a night in a shabby hotel room, he wakes up from a disturbing dream and decides to leave. He encounters a neglected girl and takes care of her before leaving. He walks through a desolate town and has a tense conversation with a man named Achilles before pulling out a revolver and shooting himself. In this passage from Crime and Punishment, Raskolnikov visits his mother, Pulcheria Alexandrovna, and discusses his published article and his future plans. He expresses his love for her and asks for her continued love, regardless of future rumors about him. Raskolnikov then returns home and contemplates suicide, but decides to confess his crime instead. He seeks comfort from Sonia, who gives him two crosses as symbols of his suffering. Raskolnikov struggles with his emotions and finally decides to confess his crime to the police, specifically seeking out Ilya Petrovitch, the \\'explosive lieutenant\\'. In Dostoevsky\\'s \"Crime and Punishment\", protagonist Raskolnikov confesses to murdering an old pawnbroker and her sister, leading to his trial and sentencing to eight years in a Siberian prison. His mother and sister create a story to protect his mother from the truth, but she falls ill and dies, revealing she knew more about Raskolnikov\\'s fate than previously thought. Raskolnikov initially struggles in prison, but finds redemption through Sonia, who had followed him to Siberia. Despite his harsh environment, Raskolnikov\\'s greatest struggle is with his own pride and shame over his past actions. He questions the nature of his crime and his desire to live, feeling isolated from his fellow prisoners. Sonia, beloved by the prisoners, provides a beacon of hope for Raskolnikov. The narrative ends with Raskolnikov working at a river bank, awaiting Sonia\\'s visit.Raskolnikov, a character from \"Crime and Punishment,\" is contemplating by a river when Sonia joins him. He realizes his deep love for her, and despite their difficult circumstances, they find hope in their shared feelings. Raskolnikov reflects on his past wrongdoings and feels ready to reciprocate Sonia\\'s love. He contemplates adopting her religious convictions, finding a New Testament under his pillow. The story ends with the start of Raskolnikov\\'s seven-year journey of transformation and redemption, despite the high cost it may entail.'"
      ]
     },
     "execution_count": 15,
     "metadata": {},
     "output_type": "execute_result"
    }
   ],
   "source": [
    "#Print the summary\n",
    "summary"
   ]
  },
  {
   "cell_type": "markdown",
   "metadata": {},
   "source": [
    "## PDF Generation\n",
    "\n",
    "The last nail in the coffin is to convert the generated summary from a string to a nice and clean PDF document. This will be done using **FPDF** library. One thing that we understand about this library is that it is originally a PHP library. It has been copied into Python language thanks to its vibrant community.\n",
    "\n",
    "But I guess they are not readily updaiting it. That is why it generates errors when encountered with special characters. It would throw the following error if your text contains any special character like ‘ ’\n",
    "\n",
    "```\n",
    "    \n",
    "python fpdf UnicodeEncodeError: 'latin-1' codec can't encode character '\\u2018' in position 403: ordinal not in range(256)\n",
    "    \n",
    "```\n",
    "\n",
    "**FPDF** cannot handle special characters. We need to explicitly add the Font Files for the specific font family. Otherwise, it will throw error whenever it encounters special characters. I am using the standard **Time New Roman** font. Its respective font files are downloaded from [here](https://colab.research.google.com/corgiredirector?site=https%3A%2F%2Fdwl.freefontsfamily.com%2Fdownload%2FTimes-New-Roman-Font%2F) and are stored in **fonts** directory. If you are using some other font, you can add its font files.\n",
    "\n",
    "There is a new **FPDF2** library but it has more issues than the older **FPDF**. Because we can add the custom fonts into FPDF but this solution does not work for FPDF2.\n",
    "    "
   ]
  },
  {
   "cell_type": "code",
   "execution_count": 16,
   "metadata": {},
   "outputs": [],
   "source": [
    "#Load the FPDF library\n",
    "from fpdf import FPDF"
   ]
  },
  {
   "cell_type": "code",
   "execution_count": 19,
   "metadata": {},
   "outputs": [],
   "source": [
    "\"\"\"\n",
    "This function accepts a string as input and converts it into a PDF file.\n",
    "And stores the PDF file on the current working directory.\n",
    "\"\"\"\n",
    "import random\n",
    "def create_pdf(final_summary):\n",
    "    \n",
    "    #Instantiate the FPDF class\n",
    "    pdf = FPDF(orientation='P', #Portrait\n",
    "           unit= 'in', #Other values for unit: 'mm' --> Mili Meter 'pt' --> point, 'cm' --> Centimeter, 'in' --> inches\n",
    "           format='A4' #A4 Page\n",
    "           )\n",
    "    \n",
    "    \n",
    "    #Add the font files for Times New Roman\n",
    "    pdf.add_font(family=\"Times\", style=\"\", fname=\"fonts/times new roman.ttf\", uni=True)\n",
    "    pdf.add_font(family=\"Times\", style=\"B\", fname=\"fonts/times new roman bold.ttf\", uni=True)\n",
    "    pdf.add_font(family=\"Times\", style=\"I\", fname=\"fonts/times new roman italic.ttf\", uni=True)\n",
    "    pdf.add_font(family=\"Times\", style=\"BI\", fname=\"fonts/times new roman bold italic.ttf\", uni=True)\n",
    "    \n",
    "    #Set margins to 1 inches\n",
    "    pdf.set_margins(left= 1, top=1, right=1)\n",
    "    \n",
    "    #Add the title and author name\n",
    "    pdf.set_title(title=\"Summary of the Book Crime & Punishment\")\n",
    "    pdf.set_author(author=\"Umair\")\n",
    "    \n",
    "    #Add a page\n",
    "    pdf.add_page()\n",
    "\n",
    "    #Set the style to Bold & Italic, and szie to 20 for the first page\n",
    "    pdf.set_font(family=\"Times\",\n",
    "                 style='BI',  # 'I' --> italics, 'U' --> underlined, '' --> regular font\n",
    "                 size=20\n",
    "                 )\n",
    "    \n",
    "    #Add the tex \"Summary of the Book Crime & Punishments\" on the first page\n",
    "    pdf.cell(w=6.25, h=1, txt = \"Summary\", ln = 1, align = 'C')\n",
    "    pdf.cell(w=6.25, h=1, txt = \"of the Book\", ln = 1, align = 'C')\n",
    "    pdf.cell(w=6.25, h=1, txt = \"Crime & Punishment\", ln = 1, align = 'C')\n",
    "    \n",
    "    #Add a new page\n",
    "    pdf.add_page()\n",
    "\n",
    "    #Set the style to noraml and font size to 12\n",
    "    pdf.set_font(family=\"Times\",\n",
    "                 style='',  # 'I' --> italics, 'U' --> underlined, '' --> regular font\n",
    "                 size=12\n",
    "                 )\n",
    "    \n",
    "    line = \"\"\n",
    "    next_line = random.randrange(start=50, stop=200)\n",
    "    para_length = 0\n",
    "    period_words = [\"Mrs.\", \"Mr.\", \"Ms.\", \"Dr.\", \"Prof.\", \"Capt.\", \"Gen.\", \"Sen.\", \"Rev.\", \"Hon.\", \"St.\"\\\n",
    "                   \"Jr.\",\"Sr.\", \"i.e.\",\"e.g.\",\"etc.\",\"a.m.\", \"p.m.\",]\n",
    "    for count, word in enumerate(final_summary.split(\" \")):\n",
    "        para_length = para_length + 1\n",
    "        if para_length > next_line:\n",
    "            if (word.endswith(\".\")) and (word not in period_words) and (len(word) > 2):\n",
    "                #insert the line in pdf\n",
    "                pdf.cell(w=6.25, h=0.285, txt = line + \" \"+ word, ln = 1, align = '')\n",
    "                #insert a line-break\n",
    "                pdf.cell(w=0, h=0.285, txt = \"\", ln = 1, align = '')\n",
    "                line = \"\"\n",
    "                next_line = random.randrange(start=50, stop=200)\n",
    "                para_length = 0\n",
    "                continue\n",
    "        if len(line) + len(word) <= 87:\n",
    "            line = line + \" \" + word\n",
    "        else:\n",
    "            #insert the line in pdf\n",
    "            pdf.cell(w=6.25, h=0.285, txt = line, ln = 1, align = '')\n",
    "            line = word\n",
    "    \n",
    "    #Write the last line\n",
    "    pdf.cell(w=6.25, h=0.285, txt = line, ln = 1, align = '')\n",
    "    \n",
    "    # save the pdf with name .pdf\n",
    "    pdf.output(\"summary.pdf\")"
   ]
  },
  {
   "cell_type": "code",
   "execution_count": 20,
   "metadata": {},
   "outputs": [],
   "source": [
    "#Convert the summary (a string variable) into a PDF document by using create_pdf function\n",
    "create_pdf(summary)"
   ]
  },
  {
   "cell_type": "markdown",
   "metadata": {},
   "source": [
    "## Conclusion\n",
    "\n",
    "By combining LangChain, ChatGPT, and FPDF, our project delivers a powerful and efficient book summarization system that can be utilized across a wide range of domains, from education to research and beyond."
   ]
  }
 ],
 "metadata": {
  "colab": {
   "provenance": []
  },
  "kernelspec": {
   "display_name": "Python 3 (ipykernel)",
   "language": "python",
   "name": "python3"
  },
  "language_info": {
   "codemirror_mode": {
    "name": "ipython",
    "version": 3
   },
   "file_extension": ".py",
   "mimetype": "text/x-python",
   "name": "python",
   "nbconvert_exporter": "python",
   "pygments_lexer": "ipython3",
   "version": "3.9.16"
  }
 },
 "nbformat": 4,
 "nbformat_minor": 1
}
